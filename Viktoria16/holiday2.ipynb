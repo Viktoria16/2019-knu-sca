{
 "cells": [
  {
   "cell_type": "code",
   "execution_count": 4,
   "metadata": {},
   "outputs": [
    {
     "name": "stdout",
     "output_type": "stream",
     "text": [
      "n: 100\n",
      "a: 0\n",
      "b: 10\n",
      "Exception handling The truth value of an array with more than one element is ambiguous. Use a.any() or a.all()\n",
      " <function fun at 0x050FA618>\n",
      "Exception handling only size-1 arrays can be converted to Python scalars\n",
      " <built-in function sin>\n",
      " <numpy.vectorize object at 0x08A1DCB0>\n"
     ]
    }
   ],
   "source": [
    "import numpy as np\n",
    "from math import sin\n",
    "#from numpy import sin\n",
    "\n",
    "\n",
    "def gety(f, x):\n",
    "    try:\n",
    "        y = f(x)\n",
    "    except Exception as e:\n",
    "        print('Exception handling', e)\n",
    "        n = x.size\n",
    "        y = np.zeros(n)\n",
    "        for i in range(n):\n",
    "            y[i] = f(x[i])\n",
    "    return y\n",
    "\n",
    "\n",
    "\n",
    "def tabulate(f, a, b, n):\n",
    "    x = np.linspace(a, b, n)\n",
    "    y = gety(f, x)\n",
    "    return x, y\n",
    "\n",
    "\n",
    "def fun(x):\n",
    "    '''sin(x)\n",
    "    '''\n",
    "    if x == 0:\n",
    "        return 0\n",
    "    else:\n",
    "        return sin(x)\n",
    "\n",
    "\n",
    "\n",
    "if __name__ == '__main__':\n",
    "    n = int(input('n: '))\n",
    "    a = float(input('a: '))\n",
    "    b = float(input('b: '))\n",
    "\n",
    "\n",
    "    funcs = [fun, sin, np.vectorize(sin)]\n",
    "    for ff in funcs:\n",
    "        x, y = tabulate(ff, a, b, n)\n",
    "        if n < 50:\n",
    "            print('\\n', x, '\\n', y)\n",
    "        print('', str(ff))"
   ]
  },
  {
   "cell_type": "code",
   "execution_count": 5,
   "metadata": {},
   "outputs": [
    {
     "name": "stdout",
     "output_type": "stream",
     "text": [
      "n: 100\n",
      "a: 0\n",
      "b: 10\n",
      "Exception handling The truth value of an array with more than one element is ambiguous. Use a.any() or a.all()\n",
      "Exception handling The truth value of an array with more than one element is ambiguous. Use a.any() or a.all()\n",
      "Exception handling The truth value of an array with more than one element is ambiguous. Use a.any() or a.all()\n"
     ]
    },
    {
     "data": {
      "image/png": "[encoded data removed]",
      "text/plain": [
       "<Figure size 432x288 with 3 Axes>"
      ]
     },
     "metadata": {
      "needs_background": "light"
     },
     "output_type": "display_data"
    }
   ],
   "source": [
    "import numpy as np\n",
    "import matplotlib.pyplot as plt\n",
    "#from tabulate import *\n",
    "from math import sin\n",
    "#from numpy import sin\n",
    "\n",
    "styles = ['-','--','-.',':','.',',',\n",
    "          'o','v','^','<','>',\n",
    "          '1','2','3','4',\n",
    "          's','p','*','h','H',\n",
    "          '+','x','D','d','|','_']\n",
    "\n",
    "colors = ['b','g','r','c','m','y','k','w']\n",
    "\n",
    "def movespinesticks():\n",
    "    ax = plt.gca()  \n",
    "    ax.spines['top'].set_color('none')\n",
    "    ax.spines['right'].set_color('none')\n",
    "    ax.xaxis.set_ticks_position('bottom')\n",
    "    ax.spines['bottom'].set_position(('data',0))\n",
    "    ax.yaxis.set_ticks_position('left')\n",
    "    ax.spines['left'].set_position(('data',0))\n",
    "\n",
    "    \n",
    "\n",
    "def plotfunc4(a, b, n, *f):\n",
    "    tabb = False    \n",
    "    m = len(f)      \n",
    "    for i,ff in enumerate(f):\n",
    "        style = styles[i % len(styles)] + colors[i % len(colors)]\n",
    "#        style = np.random.choice(styles) + np.random.choice(colors)\n",
    "        if not tabb:\n",
    "            x, y = tabulate(ff, a, b, n)    \n",
    "            plt.subplot(m, 1, 1)            \n",
    "            tabb = True\n",
    "        else:\n",
    "            y = gety(ff, x)                 \n",
    "            plt.subplot(m, 1, i + 1)        \n",
    "        movespinesticks()               \n",
    "        plt.xlabel('x')                 \n",
    "        plt.ylabel('y')                 \n",
    "        plt.plot(x, y, style, label = ff.__doc__) \n",
    "        plt.legend(loc = 'best')          \n",
    "    plt.show()                      \n",
    "\n",
    "def sindivx(x):\n",
    "    '''sin(2x)\n",
    "    '''\n",
    "    if x == 0:\n",
    "        return 0\n",
    "    else:\n",
    "        return sin(2*x)\n",
    "\n",
    "def plfuncs(x):\n",
    "    '''sin(x)+sin(2x)'''\n",
    "    if x==0:\n",
    "        return 0\n",
    "    if sin(x)==0 and sin(2*x)==1:\n",
    "        return 1\n",
    "    if sin(x)==1 and sin(2*x)==0:\n",
    "        return 1\n",
    "    else:\n",
    "        return sin(x)+sin(2*x)\n",
    "    \n",
    "\n",
    "\n",
    "if __name__ == '__main__':\n",
    "    n = int(input('n: '))\n",
    "    a = float(input('a: '))\n",
    "    b = float(input('b: '))\n",
    "\n",
    "\n",
    "    funcs = [fun, sindivx, plfuncs]\n",
    "    plotfunc4(a, b, n, *funcs)"
   ]
  }
 ],
 "metadata": {
  "kernelspec": {
   "display_name": "Python 3",
   "language": "python",
   "name": "python3"
  }
 },
 "nbformat": 4,
 "nbformat_minor": 2
}
